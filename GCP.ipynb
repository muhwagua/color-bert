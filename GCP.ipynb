{
  "nbformat": 4,
  "nbformat_minor": 0,
  "metadata": {
    "colab": {
      "name": "GCP.ipynb",
      "provenance": [],
      "authorship_tag": "ABX9TyO9SZ/HXZfLbbGs1OhqdD40",
      "include_colab_link": true
    },
    "kernelspec": {
      "name": "python3",
      "display_name": "Python 3"
    },
    "language_info": {
      "name": "python"
    }
  },
  "cells": [
    {
      "cell_type": "markdown",
      "metadata": {
        "id": "view-in-github",
        "colab_type": "text"
      },
      "source": [
        "<a href=\"https://colab.research.google.com/github/ampehta/color-bert/blob/main/GCP.ipynb\" target=\"_parent\"><img src=\"https://colab.research.google.com/assets/colab-badge.svg\" alt=\"Open In Colab\"/></a>"
      ]
    },
    {
      "cell_type": "markdown",
      "metadata": {
        "id": "qRMvFREhh10q"
      },
      "source": [
        "##GCP 연결된 계정 인증"
      ]
    },
    {
      "cell_type": "code",
      "metadata": {
        "id": "3BwNgZhLhtlR"
      },
      "source": [
        "from google.colab import auth\n",
        "auth.authenticate_user()"
      ],
      "execution_count": null,
      "outputs": []
    },
    {
      "cell_type": "markdown",
      "metadata": {
        "id": "338nWuHth6Cp"
      },
      "source": [
        "## 모델 GCP에 저장하기"
      ]
    },
    {
      "cell_type": "code",
      "metadata": {
        "id": "PitethGqiFqH"
      },
      "source": [
        "PROJECT = \"muhwagua\" #@param {type:\"string\"}\n",
        "BUCKET = \"gs://colorbert_models\"  #@param {type:\"string\", default:\"jddj\"}\n",
        "MODEL_NAME = \"ColorBert_Tuned\" #@param {type:\"string\"}\n",
        "MODEL_VERSION = \"LR.ColorRatio.Epoch\" #@param {type:\"string\"}"
      ],
      "execution_count": null,
      "outputs": []
    },
    {
      "cell_type": "code",
      "metadata": {
        "id": "oG_HVauPh5Rc"
      },
      "source": [
        "import os\n",
        "serving_model = MODEL #여기에 저장하려는 모델\n",
        "export_path = os.path.join(BUCKET, MODEL_NAME, MDOEL_VERSION)\n",
        "tf.saved_model.save(serving_model, export_path)"
      ],
      "execution_count": null,
      "outputs": []
    },
    {
      "cell_type": "markdown",
      "metadata": {
        "id": "o0DQvBJkkEcJ"
      },
      "source": [
        "## GCP에서 모델 불러오기 "
      ]
    },
    {
      "cell_type": "code",
      "metadata": {
        "id": "buZQTZHDkDh9"
      },
      "source": [
        "import tensorflow as tf\n",
        "\n",
        "export_dir ='gs://colorbert_models/keras_export/1616858989.903349' #요것만 바꿔주면 됨\n",
        "\n",
        "tf.saved_model.load(\n",
        "    export_dir, tags=None, options=None\n",
        ")"
      ],
      "execution_count": null,
      "outputs": []
    }
  ]
}